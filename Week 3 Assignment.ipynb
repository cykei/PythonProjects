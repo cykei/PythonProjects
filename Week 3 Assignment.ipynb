{
 "cells": [
  {
   "cell_type": "markdown",
   "metadata": {
    "colab_type": "text",
    "id": "VEj1vZKLhUv4"
   },
   "source": [
    "# Week 3 Assignment: Cat Classification"
   ]
  },
  {
   "cell_type": "markdown",
   "metadata": {
    "colab_type": "text",
    "id": "bwZpqmzBhUv6"
   },
   "source": [
    "-------"
   ]
  },
  {
   "cell_type": "markdown",
   "metadata": {
    "colab_type": "text",
    "id": "Eg1wahLZhUv7"
   },
   "source": [
    "## <font color=\"red\"> <참고사항> \n",
    "\n",
    "### 3주차와 4주차의 과제 난이도가 입문자들에게는 매우 높습니다. 그럼에도 하는 이유가 뭘까요?\n",
    "    \n",
    "#### 1. Neural Network의 구조에 대해 어느 정도 알아야 tensorflow로 구현할 수 있습니다.\n",
    "- 하지만 5주차 초반부까지 가야 Neural Network의 구조에 대해 다 배웁니다.\n",
    "    \n",
    "- 그래서 실질적으로 더 열심히 하셔야 하는 과제는 5주차 이후의 과제들입니다.\n",
    " \n",
    "#### 2. 그 전까지는 여러분들이 python과 numpy에 대해 실습을 통해 공부할 필요가 있습니다.\n",
    "- 3~4주차 과제를 하시면서 모르는 부분들이 많을 것입니다.\n",
    "    \n",
    "- 이 부분을 직접 찾아보거나 튜터에게 질문을 하며 과제를 구현하게 되면 향후 python 실력이 5주차 실습을 하기에 충분해집니다.\n",
    "    \n",
    "#### 3. 또한, 이 과제는 코세라 내용을 기반으로 하기 때문에 배운 내용을 간접적으로 한 번 더 복습할 수 있는 계기가 됩니다.\n",
    "    \n",
    "### <font color=\"coral\"> **결론 1:** python 공부와 강의 복습을 목적으로 이 과제를 최대한 해결하되 \n",
    "### <font color=\"coral\"> 과제를 다 해결하지 못해도 tensorflow 구조가 이보다 쉽기 때문에 충분히 5주차 이후 실습이 가능합니다.\n",
    "    \n",
    "    \n",
    "### <font color=\"coral\"> **결론 2:** 빈칸이 이외의 셀은 알지 못해도 됩니다. (필요한 부분은 수업시간에 안내합니다.)"
   ]
  },
  {
   "cell_type": "markdown",
   "metadata": {
    "colab_type": "text",
    "id": "-aCDqvwHhUv7"
   },
   "source": [
    "----------"
   ]
  },
  {
   "cell_type": "markdown",
   "metadata": {
    "colab_type": "text",
    "id": "gJyTYOIkhUv8"
   },
   "source": [
    "## assignment 관련 설명 (꼭 읽어보시고 시작하시기 바랍니다.)\n",
    "\n",
    "### <font color=\"red\"> 0. 로컬 컴퓨터에서 진행하시는 경우 폴더 통째로 받아서 'images' 폴더랑 'Week 3 Assignment.ipynb'를 같은 폴더에 넣고 시작하셔야 합니다.\n",
    "\n",
    "### 1. 기본\n",
    "\n",
    "1) 기본: 'shift + enter' 로 각 셀을 실행합니다.\n",
    "\n",
    "2) ###START CODE HERE ### 와 ### END CODE HERE ### 사이의 빈 칸에 답을 적으시면 됩니다.\n",
    "\n",
    "3) (= X lines of code) 라고 적혀 있으면, X개의 줄 만큼의 답을 적으시면 됩니다. (물론 x개의 줄이 아니어도 정답일 수 있습니다.)\n",
    "\n",
    "4) 빈칸 이외의 부분은 건드리지 말아주세요.\n",
    "\n",
    "5) 셀은 위에서부터 **순서대로** 실행해주세요.\n",
    "\n",
    "6) 여유가 되신다면 빈칸 이외의 부분도 관심을 가지고 공부하는 것도 추천드립니다.\n",
    "\n",
    "#### 7) 문제와 주석을 꼼꼼히 읽어보시면 분명 hint가 나옵니다.  \n",
    "\n",
    "### 2. 자꾸 error 가 날 때\n",
    "  \n",
    "1) 처음부터 끝까지 순서대로 다시 실행 (특히, import 했는지 확인해보기)\n",
    "\n",
    "2) 문제를 잘 읽었는지 확인해보기\n",
    "\n",
    "3) 대소문자를 구별해서 적었는지 확인해주세요.\n",
    "\n",
    "4) 튜터에게 error 부분 스샷 잘 찍어서 질문하기\n",
    "\n",
    "### 3. 셀이 실행 안 될 때\n",
    "\n",
    "1) 좌측 상단에서 kernel -> Restart kernel 실행"
   ]
  },
  {
   "cell_type": "markdown",
   "metadata": {
    "colab_type": "text",
    "id": "ITN9i-6ohUv9"
   },
   "source": [
    "------------"
   ]
  },
  {
   "cell_type": "markdown",
   "metadata": {
    "colab_type": "text",
    "id": "dtFzbXUehUv9"
   },
   "source": [
    "## 1. Import Packages ##\n",
    "\n",
    "<중요한 라이브러리>\n",
    "- [numpy](www.numpy.org)는 2주차 수업 때 간단히 배웠으며 ndarray를 다루는 라이브러리입니다.\n",
    "- [matplotlib](http://matplotlib.org)은 셀 안에 그래프 혹은 그림을 그려줘서 향후 여러분들이 많이 쓰게 될 라이브러리이며 9주차에 특강으로 학습하실 수 있습니다.\n",
    "\n",
    "<알지 못해도 되는 라이브러리>\n",
    "- [h5py](http://www.h5py.org)는 H5 파일을 다루는 라이브러리이며 향후 딥러닝 NN구조와 parameter를 저장할 때 H5 파일 형태로 저장합니다.\n",
    "- [PIL](http://www.pythonware.com/products/pil/) and [cv2(opecnv)](https://opencv.org/) 는 마지막에 보너스로 여러분의 이미지를 test할 때 쓰이는 이미지 다루는 라이브러리입니다.\n",
    "\n",
    "\n",
    "이 라이브러리들을 사용하기 위해 아래 셀을 실행해주어야 합니다.  \n",
    "\n",
    "혹시 \"No module named 'cv2'\" 라는 에러가 뜬다면  \n",
    "\n",
    "    !pip install opencv-python\n",
    "이라는 명령어를 실행시켜서 opencv 라이브러리를 설치해주세요.  "
   ]
  },
  {
   "cell_type": "code",
   "execution_count": 1,
   "metadata": {
    "colab": {},
    "colab_type": "code",
    "id": "8SjNVlwahUv-"
   },
   "outputs": [],
   "source": [
    "import numpy as np\n",
    "import matplotlib.pyplot as plt\n",
    "import h5py\n",
    "import cv2\n",
    "import PIL.Image as pilimg\n",
    "\n",
    "%matplotlib inline"
   ]
  },
  {
   "cell_type": "markdown",
   "metadata": {
    "colab_type": "text",
    "id": "tSbxSokChUwB"
   },
   "source": [
    "-----"
   ]
  },
  {
   "cell_type": "markdown",
   "metadata": {
    "colab_type": "text",
    "id": "CVOqrEgihUwB"
   },
   "source": [
    "## 2. Data (업로드, 확인, 전처리) ##"
   ]
  },
  {
   "cell_type": "markdown",
   "metadata": {
    "colab_type": "text",
    "id": "bwLrdhyDhUwC"
   },
   "source": [
    "### 2-1) data 업로드"
   ]
  },
  {
   "cell_type": "markdown",
   "metadata": {
    "colab_type": "text",
    "id": "1r8hrPOPlxr-"
   },
   "source": [
    "아래 셀을 colab에서 구글 드라이브로 실행할 경우는\n",
    "우선 아래 코드를 통해 google drive를 mount 하신 뒤에  \n",
    "```python\n",
    "from google.colab import drive\n",
    "drive.mount('/content/gdrive')\n",
    "```\n",
    "/content/gdrive/My Drive/ 폴더에, 즉 '내 드라이브' 폴더에 image 폴더를 두신 뒤, load_dataset 함수의 정의 부분에서 train_dataset과 test_dataset을 불러오는 부분을  \n",
    "```python\n",
    "train_dataset = h5py.File('/content/gdrive/My Drive/images/train_catvnoncat.h5', \"r\")\n",
    "test_dataset = h5py.File('/content/gdrive/My Drive/images/test_catvnoncat.h5', \"r\")\n",
    "```\n",
    "로 고쳐주시면 됩니다.\n",
    "혹은 아래 코드를 통해 working directory를 현재 폴더로 하셔도 됩니다. ('working_directory_path' 대신 현재 폴더의 path를 적어주세요)\n",
    "```python\n",
    "import os\n",
    "os.chdir('working_directory_path')\n",
    "```"
   ]
  },
  {
   "cell_type": "code",
   "execution_count": 2,
   "metadata": {
    "colab": {},
    "colab_type": "code",
    "id": "eg4E6LDQhUwD"
   },
   "outputs": [],
   "source": [
    "def load_dataset():\n",
    "    train_dataset = h5py.File('images/train_catvnoncat.h5', \"r\")\n",
    "    train_set_x_orig = np.array(train_dataset[\"train_set_x\"][:]) # your train set features\n",
    "    train_set_y= np.array(train_dataset[\"train_set_y\"][:]) # your train set labels\n",
    "\n",
    "    test_dataset = h5py.File('images/test_catvnoncat.h5', \"r\")\n",
    "    test_set_x_orig = np.array(test_dataset[\"test_set_x\"][:]) # your test set features\n",
    "    test_set_y = np.array(test_dataset[\"test_set_y\"][:]) # your test set labels\n",
    "\n",
    "    classes = np.array([b'non-cat', b'cat']) # the list of classes\n",
    "    train_set_y= train_set_y.reshape((1, train_set_y.shape[0]))\n",
    "    test_set_y = test_set_y.reshape((1, test_set_y.shape[0]))\n",
    "    \n",
    "    return train_set_x_orig, train_set_y, test_set_x_orig, test_set_y, classes"
   ]
  },
  {
   "cell_type": "code",
   "execution_count": 3,
   "metadata": {
    "colab": {
     "base_uri": "https://localhost:8080/",
     "height": 460
    },
    "colab_type": "code",
    "executionInfo": {
     "elapsed": 779,
     "status": "error",
     "timestamp": 1578749241533,
     "user": {
      "displayName": "박은천",
      "photoUrl": "",
      "userId": "14521844370247226015"
     },
     "user_tz": -540
    },
    "id": "YqBopCdKhUwE",
    "outputId": "41328f39-d8d3-4691-b195-516b9fdfca15"
   },
   "outputs": [],
   "source": [
    "# Loading the data (cat/non-cat)\n",
    "train_set_x_orig, train_set_y, test_set_x_orig, test_set_y, classes = load_dataset()"
   ]
  },
  {
   "cell_type": "markdown",
   "metadata": {
    "colab_type": "text",
    "id": "eCmXJuyOhUwG"
   },
   "source": [
    "**data에 대한 이해**: You are given a dataset (\"data.h5\"에 저장되어 있음) containing:\n",
    "\n",
    "- a training set of m_train images labeled as cat (y=1) or non-cat (y=0)\n",
    "- a test set of m_test images labeled as cat or non-cat\n",
    "- each image is of shape (num_px, num_px, 3) where 3 is for the 3 channels (RGB). Thus, each image is square (height = num_px) and (width = num_px).\n",
    "\n",
    "**<부연>**\n",
    "\n",
    "1) training set은 우리의 모델을 학습시키기 위해 사용하는 dataset\n",
    "\n",
    "2) test set은 학습된 모델이 학습하지 않은 data(test data)에서도 일관되게 성능이 나오는지 확인하기 위한 data (일반성을 확보하기 위해 존재) (5주차에 배웁니다.)\n",
    "\n",
    "3) 이미지 1개 (x(i))의 shape = (num_px, num_px, 3)이다.\n",
    "- (3은 RGB 채널 각각을 의미)\n",
    "- (num_px,num_px) = 세로 픽셀 수(행의 개수), 가로 픽셀 수(열의 개수)\n",
    "\n",
    "4) train_set_x_orig에는 training data(shape=num_px, num_px, 3)가 m개 있다.\n",
    " **=> train_set_x_orig.shape = (m, num_px, num_px, 3)**\n",
    "\n",
    "5) 실제 data 업로드 방법은 이와 다르니 위의 업로드를 유심히 보지 않아도 됩니다.\n",
    "\n",
    "6) \"_orig\"는 문제를 만든 사람이 아직 data가 전처리(preprocess)가 안 되었다는 것을 알려주기 위해 변수 이름에 덧붙였다.\n",
    "\n",
    "(물론 ndarray가 어떻게 생겼을지는 아무도 모릅니다. 그래서 항상 shape을 찍어보는 습관을 들이기 바랍니다.)\n",
    "\n",
    "(이를 통해 향후 2주의 과제로 ndarray에 익숙해지는 시간을 가지기 바랍니다.)"
   ]
  },
  {
   "cell_type": "markdown",
   "metadata": {
    "colab_type": "text",
    "id": "J0QTKZREhUwH"
   },
   "source": [
    "### 2-2) data 확인\n",
    "\n",
    "#### matplotlib.pyplot가 주로 사용되는 2가지\n",
    "- data 업로드가 잘 되었는지 확인\n",
    "- 학습이 잘 되었는지 그래프 그릴 때"
   ]
  },
  {
   "cell_type": "code",
   "execution_count": 6,
   "metadata": {
    "colab": {
     "base_uri": "https://localhost:8080/",
     "height": 287
    },
    "colab_type": "code",
    "executionInfo": {
     "elapsed": 633,
     "status": "ok",
     "timestamp": 1578729742293,
     "user": {
      "displayName": "박은천",
      "photoUrl": "",
      "userId": "14521844370247226015"
     },
     "user_tz": -540
    },
    "id": "gvl7pMZthUwH",
    "outputId": "71533282-661c-411d-b48a-166b50d890c2"
   },
   "outputs": [
    {
     "name": "stdout",
     "output_type": "stream",
     "text": [
      "y = [1], it's a 'cat' picture.\n"
     ]
    },
    {
     "data": {
      "image/png": "[encoded data removed]",
      "text/plain": [
       "<Figure size 432x288 with 1 Axes>"
      ]
     },
     "metadata": {
      "needs_background": "light"
     },
     "output_type": "display_data"
    }
   ],
   "source": [
    "# Example of a picture\n",
    "index = 50\n",
    "plt.imshow(train_set_x_orig[index])\n",
    "print (\"y = \" + str(train_set_y[:, index]) + \", it's a '\" + classes[np.squeeze(train_set_y[:, index])].decode(\"utf-8\") +  \"' picture.\")"
   ]
  },
  {
   "cell_type": "markdown",
   "metadata": {
    "colab_type": "text",
    "id": "geG-NQ1ahUwJ"
   },
   "source": [
    "### 딥러닝에서의 많은 버그들은 matrix/vector의 차원이 서로 맞지 않기 때문에 발생합니다. 만약 matrix/vector의 차원을 제대로 잡을 수 있으면 수많은 버그를 예방하실 수 있습니다.\n",
    "\n",
    "## <font color=\"blue\"> Question 1\n",
    "\n",
    "**문제:** 아래의 값에 적당한 값을 할당하시오:\n",
    "- m_train (number of training examples)\n",
    "- m_test (number of test examples)\n",
    "- num_px (= height = width of a training image)\n",
    "\n",
    "**힌트:** `train_set_x_orig.shape` = (m_train, num_px, num_px, 3). 예를 들어, `m_train`은 `train_set_x_orig.shape[0]`를 통해 접근할 수 있습니다."
   ]
  },
  {
   "cell_type": "code",
   "execution_count": 7,
   "metadata": {
    "colab": {},
    "colab_type": "code",
    "id": "UN25TJi6hUwK"
   },
   "outputs": [
    {
     "name": "stdout",
     "output_type": "stream",
     "text": [
      "Number of training examples: m_train = 200\n",
      "Number of testing examples: m_test = 50\n",
      "Height/Width of each image: num_px = 64\n",
      "Each image is of size: (64, 64, 3)\n",
      "train_set_x shape: (200, 64, 64, 3)\n",
      "train_set_y shape: (1, 200)\n",
      "test_set_x shape: (50, 64, 64, 3)\n",
      "test_set_y shape: (1, 50)\n"
     ]
    }
   ],
   "source": [
    "### START CODE HERE ### (≈ 3 lines of code)\n",
    "m_train = train_set_x_orig.shape[?]\n",
    "m_test = test_set_x_orig.shape[?]\n",
    "num_px = train_set_x_orig.shape[?]\n",
    "### END CODE HERE ###\n",
    "\n",
    "print (\"Number of training examples: m_train = \" + str(m_train))\n",
    "print (\"Number of testing examples: m_test = \" + str(m_test))\n",
    "print (\"Height/Width of each image: num_px = \" + str(num_px))\n",
    "print (\"Each image is of size: (\" + str(num_px) + \", \" + str(num_px) + \", 3)\")\n",
    "print (\"train_set_x shape: \" + str(train_set_x_orig.shape))\n",
    "print (\"train_set_y shape: \" + str(train_set_y.shape))\n",
    "print (\"test_set_x shape: \" + str(test_set_x_orig.shape))\n",
    "print (\"test_set_y shape: \" + str(test_set_y.shape))"
   ]
  },
  {
   "cell_type": "markdown",
   "metadata": {
    "colab_type": "text",
    "id": "m0fU9wgahUwL"
   },
   "source": [
    "**값이 오른쪽 table과 같다면 정답입니다**: \n",
    "<table style=\"width:15%\">\n",
    "  <tr>\n",
    "    <td>**m_train**</td>\n",
    "    <td> 200 </td> \n",
    "  </tr>\n",
    "  \n",
    "  <tr>\n",
    "    <td>**m_test**</td>\n",
    "    <td> 50 </td> \n",
    "  </tr>\n",
    "  \n",
    "  <tr>\n",
    "    <td>**num_px**</td>\n",
    "    <td> 64 </td> \n",
    "  </tr>\n",
    "  \n",
    "</table>\n"
   ]
  },
  {
   "cell_type": "markdown",
   "metadata": {
    "colab_type": "text",
    "id": "8dvIATuShUwM"
   },
   "source": [
    "### 2-3) data preprocess \n",
    "\n",
    "#### 1> flatten\n",
    "\n",
    "image dataset은 4d array\n",
    "\n",
    "image 자체는 3d array이지만 이를 딥러닝 모델 안에 넣으려면 1d array꼴로 만들어야 넣을 수 있습니다.\n",
    "\n",
    "그래서 (num_px, num_px, 3)에서 (num_px $*$ num_px $*$ 3, 1)꼴로 만들어야 합니다. 3주차에 배운 numpy 함수로 구현해봅니다."
   ]
  },
  {
   "cell_type": "markdown",
   "metadata": {
    "colab_type": "text",
    "id": "_lvnApNMhUwN"
   },
   "source": [
    "## <font color=\"blue\"> Question 2\n",
    "\n",
    "**문제:** training and test data sets을 reshape해서 images of size (num_px, num_px, 3)가 (num\\_px $*$ num\\_px $*$ 3, 1) 형태로 되게 한다.\n",
    "\n",
    "**hint:** A trick when you want to flatten a matrix X of shape (a,b,c,d) to a matrix X_flatten of shape (b$*$c$*$d, a) is to use: \n",
    "```python\n",
    "X_flatten = X.reshape(X.shape[0], -1).T      # X.T is the transpose of X\n",
    "```"
   ]
  },
  {
   "cell_type": "code",
   "execution_count": null,
   "metadata": {
    "colab": {},
    "colab_type": "code",
    "id": "eFKHY6ZShUwN"
   },
   "outputs": [],
   "source": [
    "# Reshape the training and test examples\n",
    "\n",
    "### START CODE HERE ### (≈ 2 lines of code)\n",
    "train_set_x_flatten = train_set_x_orig.reshape().T\n",
    "test_set_x_flatten = \n",
    "### END CODE HERE ###\n",
    "\n",
    "print (\"train_set_x_flatten shape: \" + str(train_set_x_flatten.shape))\n",
    "print (\"train_set_y shape: \" + str(train_set_y.shape))\n",
    "print (\"test_set_x_flatten shape: \" + str(test_set_x_flatten.shape))\n",
    "print (\"test_set_y shape: \" + str(test_set_y.shape))"
   ]
  },
  {
   "cell_type": "markdown",
   "metadata": {
    "colab_type": "text",
    "id": "y2HCXcc_hUwP"
   },
   "source": [
    "**값이 오른쪽 table과 같다면 정답입니다**: \n",
    "\n",
    "<table style=\"width:35%\">\n",
    "  <tr>\n",
    "    <td>**train_set_x_flatten shape**</td>\n",
    "    <td> (12288, 200)</td> \n",
    "  </tr>\n",
    "  <tr>\n",
    "    <td>**train_set_y shape**</td>\n",
    "    <td>(1, 200)</td> \n",
    "  </tr>\n",
    "  <tr>\n",
    "    <td>**test_set_x_flatten shape**</td>\n",
    "    <td>(12288, 50)</td> \n",
    "  </tr>\n",
    "  <tr>\n",
    "    <td>**test_set_y shape**</td>\n",
    "    <td>(1, 50)</td> \n",
    "  </tr>\n",
    "</table>"
   ]
  },
  {
   "cell_type": "markdown",
   "metadata": {
    "colab_type": "text",
    "id": "QG65cJdrhUwP"
   },
   "source": [
    "#### 2> normalization\n",
    "\n",
    "image의 pixel 값은 모두 0~255의 값을 가집니다.\n",
    "\n",
    "경험적으로 이미지 픽셀값의 범위를 0~1로 만들면 학습이 잘 됩니다. \n",
    "\n",
    "좀 더 자세한 사항은 7주차에 안내하겠습니다. 그 때는 이미지 말고 csv파일도 normalize 해보는 구체적인 방법도 배울 수 있습니다."
   ]
  },
  {
   "cell_type": "code",
   "execution_count": null,
   "metadata": {
    "colab": {},
    "colab_type": "code",
    "id": "6ur07hvOhUwQ"
   },
   "outputs": [],
   "source": [
    "train_set_x = train_set_x_flatten/255.\n",
    "test_set_x = test_set_x_flatten/255."
   ]
  },
  {
   "cell_type": "markdown",
   "metadata": {
    "colab_type": "text",
    "id": "zwqiW2JYhUwS"
   },
   "source": [
    "<font color='blue'>\n",
    "**기억하셔야 할 것:**\n",
    "\n",
    "데이터 전처리(pre-processing)를 위한 step은 다음과 같습니다:\n",
    "- 문제의 dimension과 shape 확인(m_train, m_test, num_px, ...)\n",
    "- 각각의 example이 (num_px \\* num_px \\* 3, 1) 모양이 되도록 데이터셋을 reshape하기\n",
    "- 데이터를 \"Normalize\"하기"
   ]
  },
  {
   "cell_type": "markdown",
   "metadata": {
    "colab_type": "text",
    "id": "UE8qW8K0hUwS"
   },
   "source": [
    "---"
   ]
  },
  {
   "cell_type": "markdown",
   "metadata": {
    "colab_type": "text",
    "id": "UVgAdSLshUwT"
   },
   "source": [
    "## 3. General Architecture of the learning algorithm ##\n",
    "\n",
    "Logistic regression을 사용해서 고양이 사진인지 아닌지를 분간하는 간단한 모델을 만들어보겠습니다.  \n",
    "\n",
    "\n",
    "<img src=\"images/LogReg_kiank.png\" style=\"width:650px;height:400px;\">\n",
    "\n",
    "**알고리즘의 수학적 표현**:\n",
    "\n",
    "For one example $x^{(i)}$:\n",
    "$$z^{(i)} = w^T x^{(i)} + b \\tag{1}$$\n",
    "$$\\hat{y}^{(i)} = a^{(i)} = sigmoid(z^{(i)})\\tag{2}$$ \n",
    "$$ \\mathcal{L}(a^{(i)}, y^{(i)}) =  - y^{(i)}  \\log(a^{(i)}) - (1-y^{(i)} )  \\log(1-a^{(i)})\\tag{3}$$\n",
    "\n",
    "모든 training example에 대한 cost의 합을 구하고 examples의 개수로 나누기:\n",
    "$$ J = \\frac{1}{m} \\sum_{i=1}^m \\mathcal{L}(a^{(i)}, y^{(i)})\\tag{6}$$\n",
    "\n",
    "**핵심 Step**:    \n",
    "\n",
    "    - Initialize the parameters of the model  \n",
    "    - Learn the parameters for the model by minimizing the cost    \n",
    "    - Use the learned parameters to make predictions (on the test set)  \n",
    "    - Analyse the results and conclude  "
   ]
  },
  {
   "cell_type": "markdown",
   "metadata": {
    "colab_type": "text",
    "id": "A5jdvG25hUwU"
   },
   "source": [
    "----------"
   ]
  },
  {
   "cell_type": "markdown",
   "metadata": {
    "colab_type": "text",
    "id": "SKW1yfyWhUwU"
   },
   "source": [
    "## 4. Building the parts of our algorithm ## \n",
    "\n",
    "Neural Network를 만들기 위한 main step은 다음과 같습니다:\n",
    "1. Define the model structure (such as number of input features) \n",
    "2. Initialize the model's parameters\n",
    "3. loop:\n",
    "    - Calculate current loss (forward propagation)\n",
    "    - Compute cost function\n",
    "    - Calculate current gradient (backward propagation)\n",
    "    - Update parameters (gradient descent)\n",
    "\n",
    "위 3가지 과정을 있다가 밑에서 `model()`이라는 함수에서 한 번에 진행합니다.\n",
    "\n",
    "이를 위해서는 `model()` 함수에 들어갈 부품들을 차례차례 만들어봅니다. 딥러닝의 5가지 step을 떠올려보면서 진행해도 좋습니다."
   ]
  },
  {
   "cell_type": "markdown",
   "metadata": {
    "colab_type": "text",
    "id": "DNHxlRr9hUwV"
   },
   "source": [
    "### 4-0) Build sigmoid function\n",
    "\n",
    "## <font color=\"blue\"> Question 3\n",
    "\n",
    "**문제:** 아래 식을 갖는 `sigmoid()`함수를 만들어보시오.\n",
    "- $ sigmoid( w^T x + b) = \\frac{1}{1 + e^{-(w^T x + b)}} $ \n",
    "- np.exp()를 사용해서 만들어보시오."
   ]
  },
  {
   "cell_type": "code",
   "execution_count": 12,
   "metadata": {
    "colab": {},
    "colab_type": "code",
    "id": "LljuLRAihUwW"
   },
   "outputs": [],
   "source": [
    "# GRADED FUNCTION: sigmoid\n",
    "\n",
    "def sigmoid(z):\n",
    "    \"\"\"\n",
    "    Compute the sigmoid of z\n",
    "\n",
    "    Arguments:\n",
    "    z -- A scalar or numpy array of any size.\n",
    "\n",
    "    Return:\n",
    "    s -- sigmoid(z)\n",
    "    \"\"\"\n",
    "\n",
    "    ### START CODE HERE ### (≈ 1 line of code)\n",
    "    s = 1 /  (1 + np.exp(-z))\n",
    "    ### END CODE HERE ###\n",
    "    \n",
    "    return s"
   ]
  },
  {
   "cell_type": "code",
   "execution_count": 13,
   "metadata": {
    "colab": {},
    "colab_type": "code",
    "id": "xugD2PTuhUwX"
   },
   "outputs": [
    {
     "name": "stdout",
     "output_type": "stream",
     "text": [
      "sigmoid([0, 2]) = [0.5        0.88079708]\n"
     ]
    }
   ],
   "source": [
    "print (\"sigmoid([0, 2]) = \" + str(sigmoid(np.array([0,2]))))"
   ]
  },
  {
   "cell_type": "markdown",
   "metadata": {
    "colab_type": "text",
    "id": "lbiOY2TjhUwZ"
   },
   "source": [
    "**값이 오른쪽 table과 같다면 정답입니다**:  \n",
    "\n",
    "<table>\n",
    "  <tr>\n",
    "    <td>**sigmoid([0, 2])**</td>\n",
    "    <td> [ 0.5         0.88079708]</td> \n",
    "  </tr>\n",
    "</table>"
   ]
  },
  {
   "cell_type": "markdown",
   "metadata": {
    "colab_type": "text",
    "id": "sVLWIqw1hUwZ"
   },
   "source": [
    "### 4-1) Initializing parameters\n",
    "\n",
    "## <font color=\"blue\"> Question 4\n",
    "\n",
    "**Exercise:** 함수 내부에 있는 주석에 맞게 parameter를 initialization 하시오.\n",
    "- w는 np.zeros()를 사용해서 initialization 하시오. (dim이라는 해당 함수의 parameter를 사용하시오.)\n",
    "- b는 0을 대입하시오."
   ]
  },
  {
   "cell_type": "code",
   "execution_count": null,
   "metadata": {
    "colab": {},
    "colab_type": "code",
    "id": "3vt7XQaqhUwa"
   },
   "outputs": [],
   "source": [
    "# GRADED FUNCTION: initialize_with_zeros\n",
    "\n",
    "def initialize_with_zeros(dim):\n",
    "    \"\"\"\n",
    "    This function creates a vector of zeros of shape (dim, 1) for w and initializes b to 0.\n",
    "    \n",
    "    Argument:\n",
    "    dim -- size of the w vector we want (or number of parameters in this case)\n",
    "    \n",
    "    Returns:\n",
    "    w -- initialized vector of shape (dim, 1)\n",
    "    b -- initialized scalar (corresponds to the bias)\n",
    "    \"\"\"\n",
    "    \n",
    "    ### START CODE HERE ### (≈ 1 line of code)\n",
    "    w = \n",
    "    b =\n",
    "    ### END CODE HERE ###\n",
    "\n",
    "    assert(w.shape == (dim, 1))\n",
    "    assert(isinstance(b, float) or isinstance(b, int))\n",
    "    \n",
    "    return w, b"
   ]
  },
  {
   "cell_type": "code",
   "execution_count": null,
   "metadata": {
    "colab": {},
    "colab_type": "code",
    "id": "aN-kfH84hUwc"
   },
   "outputs": [],
   "source": [
    "dim = 2\n",
    "w, b = initialize_with_zeros(dim)\n",
    "print (\"w = \" + str(w))\n",
    "print (\"b = \" + str(b))"
   ]
  },
  {
   "cell_type": "markdown",
   "metadata": {
    "colab_type": "text",
    "id": "BBED8OxPhUwe"
   },
   "source": [
    "**값이 오른쪽 table과 같다면 정답입니다**: \n",
    "\n",
    "\n",
    "<table style=\"width:15%\">\n",
    "    <tr>\n",
    "        <td>  ** w **  </td>\n",
    "        <td> [[ 0.]\n",
    " [ 0.]] </td>\n",
    "    </tr>\n",
    "    <tr>\n",
    "        <td>  ** b **  </td>\n",
    "        <td> 0 </td>\n",
    "    </tr>\n",
    "</table>\n",
    "\n",
    "For image inputs, w will be of shape (num_px $\\times$ num_px $\\times$ 3, 1)."
   ]
  },
  {
   "cell_type": "markdown",
   "metadata": {
    "colab_type": "text",
    "id": "9fO-eS6ShUwe"
   },
   "source": [
    "### 4-2) Forward and Backward propagation\n",
    "\n",
    "위에서 parameter initialization하는 함수를 만들었으니 다음 step인 forward, backward propagation을 하는 함수를 만듭니다.\n",
    "\n",
    "## <font color=\"blue\"> Question 5\n",
    "\n",
    "**문제:** cost function과 gradient를 계산하고 있는 `propagate()`함수를 완성하시오.\n",
    "\n",
    "**hints**: 아래 식들을 numpy를 통해 구현하시오. (이 식을 외우지 않아도 됩니다. 구현할 줄만 알면 됩니다.)\n",
    "- (forward propagation) $A = \\sigma(w^T X + b) = (a^{(1)}, a^{(2)}, ..., a^{(m-1)}, a^{(m)})$\n",
    "- (compute cost function) $J = -\\frac{1}{m}\\sum_{i=1}^{m}y^{(i)}\\log(a^{(i)})+(1-y^{(i)})\\log(1-a^{(i)})$\n",
    "\n",
    "- 아래의 두 공식을 사용하시면 됩니다: \n",
    "\n",
    "$$ \\frac{\\partial J}{\\partial w} = \\frac{1}{m}X(A-Y)^T\\tag{7} $$\n",
    "$$ \\frac{\\partial J}{\\partial b} = \\frac{1}{m} \\sum_{i=1}^m (a^{(i)}-y^{(i)})\\tag{8} $$"
   ]
  },
  {
   "cell_type": "code",
   "execution_count": 7,
   "metadata": {
    "colab": {},
    "colab_type": "code",
    "id": "piPvSzRwhUwf"
   },
   "outputs": [
    {
     "ename": "SyntaxError",
     "evalue": "invalid syntax (<ipython-input-7-a6effdf8a4f1>, line 26)",
     "output_type": "error",
     "traceback": [
      "\u001b[1;36m  File \u001b[1;32m\"<ipython-input-7-a6effdf8a4f1>\"\u001b[1;36m, line \u001b[1;32m26\u001b[0m\n\u001b[1;33m    A =                                                                        # compute activation\u001b[0m\n\u001b[1;37m                                                                                                   ^\u001b[0m\n\u001b[1;31mSyntaxError\u001b[0m\u001b[1;31m:\u001b[0m invalid syntax\n"
     ]
    }
   ],
   "source": [
    "# GRADED FUNCTION: propagate\n",
    "\n",
    "def propagate(w, b, X, Y):\n",
    "    \"\"\"\n",
    "    Implement the cost function and its gradient for the propagation explained above\n",
    "\n",
    "    Arguments:\n",
    "    w -- weights, a numpy array of size (num_px * num_px * 3, 1)\n",
    "    b -- bias, a scalar\n",
    "    X -- data of size (num_px * num_px * 3, number of examples)\n",
    "    Y -- true \"label\" vector (containing 0 if non-cat, 1 if cat) of size (1, number of examples)\n",
    "\n",
    "    Return:\n",
    "    cost -- negative log-likelihood cost for logistic regression\n",
    "    dw -- gradient of the loss with respect to w, thus same shape as w\n",
    "    db -- gradient of the loss with respect to b, thus same shape as b\n",
    "    \n",
    "    Tips:\n",
    "    - Write your code step by step for the propagation. np.log(), np.dot()\n",
    "    \"\"\"\n",
    "    \n",
    "    m = X.shape[1]\n",
    "    \n",
    "    # FORWARD PROPAGATION (FROM X TO COST)\n",
    "    ### START CODE HERE ### (≈ 2 lines of code)\n",
    "    A =                                                                        # compute activation\n",
    "    cost =                                                                     # compute cost\n",
    "    ### END CODE HERE ###\n",
    "    \n",
    "    # BACKWARD PROPAGATION (TO FIND GRAD)\n",
    "    ### START CODE HERE ### (≈ 2 lines of code)\n",
    "    dw = \n",
    "    db = \n",
    "    ### END CODE HERE ###\n",
    "\n",
    "    assert(dw.shape == w.shape)\n",
    "    assert(db.dtype == float)\n",
    "    cost = np.squeeze(cost)\n",
    "    assert(cost.shape == ())\n",
    "    \n",
    "    grads = {\"dw\": dw,\n",
    "             \"db\": db}\n",
    "    \n",
    "    return grads, cost"
   ]
  },
  {
   "cell_type": "code",
   "execution_count": null,
   "metadata": {
    "colab": {},
    "colab_type": "code",
    "id": "YYzdLBxhhUwi"
   },
   "outputs": [],
   "source": [
    "w, b, X, Y = np.array([[1.],[2.]]), 2., np.array([[1.,2.,-1.],[3.,4.,-3.2]]), np.array([[1,0,1]])\n",
    "grads, cost = propagate(w, b, X, Y)\n",
    "print (\"dw = \" + str(grads[\"dw\"]))\n",
    "print (\"db = \" + str(grads[\"db\"]))\n",
    "print (\"cost = \" + str(cost))"
   ]
  },
  {
   "cell_type": "markdown",
   "metadata": {
    "colab_type": "text",
    "id": "hnMfiIDhhUwl"
   },
   "source": [
    "**값이 오른쪽 table과 같다면 정답입니다**: \n",
    "\n",
    "<table style=\"width:50%\">\n",
    "    <tr>\n",
    "        <td>  ** dw **  </td>\n",
    "      <td> [[ 0.99845601]\n",
    "     [ 2.39507239]]</td>\n",
    "    </tr>\n",
    "    <tr>\n",
    "        <td>  ** db **  </td>\n",
    "        <td> 0.00145557813678 </td>\n",
    "    </tr>\n",
    "    <tr>\n",
    "        <td>  ** cost **  </td>\n",
    "        <td> 5.801545319394553 </td>\n",
    "    </tr>\n",
    "\n",
    "</table>"
   ]
  },
  {
   "cell_type": "markdown",
   "metadata": {
    "colab_type": "text",
    "id": "qjhIXFsnhUwm"
   },
   "source": [
    "### 4-3) Optimization (Gradient descent)\n",
    " \n",
    "- You have initialized your parameters.\n",
    "- You are also able to compute a cost function and its gradient.\n",
    "- Now, you want to update the parameters using gradient descent.\n",
    "\n",
    "## <font color=\"blue\"> Question 6\n",
    "\n",
    "**Exercise:** gradient descent 식을 완성한다.\n",
    "    \n",
    "**hint:** For a parameter $w$, the update rule is $ w = w - \\alpha \\text{ } dw$, where $\\alpha$ is the learning rate.\n",
    "    "
   ]
  },
  {
   "cell_type": "code",
   "execution_count": null,
   "metadata": {
    "colab": {},
    "colab_type": "code",
    "id": "Pp2VN_zrhUwm"
   },
   "outputs": [],
   "source": [
    "# GRADED FUNCTION: optimize\n",
    "\n",
    "def optimize(w, b, X, Y, num_iterations, learning_rate, print_cost = False):\n",
    "    \"\"\"\n",
    "    This function optimizes w and b by running a gradient descent algorithm\n",
    "    \n",
    "    Arguments:\n",
    "    w -- weights, a numpy array of size (num_px * num_px * 3, 1)\n",
    "    b -- bias, a scalar\n",
    "    X -- data of shape (num_px * num_px * 3, number of examples)\n",
    "    Y -- true \"label\" vector (containing 0 if non-cat, 1 if cat), of shape (1, number of examples)\n",
    "    num_iterations -- number of iterations of the optimization loop\n",
    "    learning_rate -- learning rate of the gradient descent update rule\n",
    "    print_cost -- True to print the loss every 100 steps\n",
    "    \n",
    "    Returns:\n",
    "    params -- dictionary containing the weights w and bias b\n",
    "    grads -- dictionary containing the gradients of the weights and bias with respect to the cost function\n",
    "    costs -- list of all the costs computed during the optimization, this will be used to plot the learning curve.\n",
    "    \n",
    "    Tips:\n",
    "    You basically need to write down two steps and iterate through them:\n",
    "        1) Calculate the cost and the gradient for the current parameters. Use propagate().\n",
    "        2) Update the parameters using gradient descent rule for w and b.\n",
    "    \"\"\"\n",
    "    \n",
    "    costs = []\n",
    "    \n",
    "    for i in range(num_iterations):\n",
    "        \n",
    "        \n",
    "        # Cost and gradient calculation (≈ 1-4 lines of code)\n",
    "        ### START CODE HERE ### \n",
    "        grads, cost = \n",
    "        ### END CODE HERE ###\n",
    "        \n",
    "        # Retrieve derivatives from grads\n",
    "        dw = grads[\"dw\"]\n",
    "        db = grads[\"db\"]\n",
    "        \n",
    "        # update rule (≈ 2 lines of code)\n",
    "        ### START CODE HERE ###\n",
    "        w =\n",
    "        b = \n",
    "        ### END CODE HERE ###\n",
    "        \n",
    "        # Record the costs\n",
    "        if i % 100 == 0:\n",
    "            costs.append(cost)\n",
    "        \n",
    "        # Print the cost every 100 training iterations\n",
    "        if print_cost and i % 100 == 0:\n",
    "            print (\"Cost after iteration %i: %f\" %(i, cost))\n",
    "    \n",
    "    params = {\"w\": w,\n",
    "              \"b\": b}\n",
    "    \n",
    "    grads = {\"dw\": dw,\n",
    "             \"db\": db}\n",
    "    \n",
    "    return params, grads, costs"
   ]
  },
  {
   "cell_type": "code",
   "execution_count": null,
   "metadata": {
    "colab": {},
    "colab_type": "code",
    "id": "FJw56L0BhUwo"
   },
   "outputs": [],
   "source": [
    "params, grads, costs = optimize(w, b, X, Y, num_iterations= 100, learning_rate = 0.009, print_cost = False)\n",
    "\n",
    "print (\"w = \" + str(params[\"w\"]))\n",
    "print (\"b = \" + str(params[\"b\"]))\n",
    "print (\"dw = \" + str(grads[\"dw\"]))\n",
    "print (\"db = \" + str(grads[\"db\"]))"
   ]
  },
  {
   "cell_type": "markdown",
   "metadata": {
    "colab_type": "text",
    "id": "Ju15zAq7hUwp"
   },
   "source": [
    "**값이 오른쪽 table과 같다면 정답입니다**: \n",
    "\n",
    "<table style=\"width:40%\">\n",
    "    <tr>\n",
    "       <td> **w** </td>\n",
    "       <td>[[ 0.19033591] \n",
    "     [ 0.12259159]] </td>\n",
    "    </tr>\n",
    "    <tr>\n",
    "       <td> **b** </td>\n",
    "       <td> 1.92535983008 </td>\n",
    "    </tr>\n",
    "    <tr>\n",
    "       <td> **dw** </td>\n",
    "       <td> [[ 0.67752042]\n",
    " [ 1.41625495]] </td>\n",
    "    </tr>\n",
    "    <tr>\n",
    "       <td> **db** </td>\n",
    "       <td> 0.219194504541 </td>\n",
    "    </tr>\n",
    "\n",
    "</table>"
   ]
  },
  {
   "cell_type": "markdown",
   "metadata": {
    "colab_type": "text",
    "id": "y5ufQcfThUwq"
   },
   "source": [
    "## <font color=\"blue\"> Question 7\n",
    "\n",
    "이전 `optimize()` 함수는 학습된 w와 b를 출력한다. 이제는 이 w와 b로 x(image)의 y(label)를 예측해야한다.    \n",
    "    \n",
    "**문제:** 아래 조건을 만족하는 `predict()`함수를 완성하시오. \n",
    "\n",
    "1. Calculate $\\hat{Y} = A = \\sigma(w^T X + b)$\n",
    "\n",
    "2. A의 각 원소들을 0 (if activation <= 0.5) 또는 1 (if activation > 0.5) 변환하고, 이 값들을 `Y_prediction` vector에 할당하시오. \n",
    "    \n",
    "**hint:** If you wish, you can use an `if`/`else` statement in a `for` loop (though there is also a way to vectorize this). "
   ]
  },
  {
   "cell_type": "code",
   "execution_count": null,
   "metadata": {
    "colab": {},
    "colab_type": "code",
    "id": "gFTLsgIchUwq"
   },
   "outputs": [],
   "source": [
    "# GRADED FUNCTION: predict\n",
    "\n",
    "def predict(w, b, X):\n",
    "    '''\n",
    "    Predict whether the label is 0 or 1 using learned logistic regression parameters (w, b)\n",
    "    \n",
    "    Arguments:\n",
    "    w -- weights, a numpy array of size (num_px * num_px * 3, 1)\n",
    "    b -- bias, a scalar\n",
    "    X -- data of size (num_px * num_px * 3, number of examples)\n",
    "    \n",
    "    Returns:\n",
    "    Y_prediction -- a numpy array (vector) containing all predictions (0/1) for the examples in X\n",
    "    '''\n",
    "    \n",
    "    m = X.shape[1]\n",
    "    Y_prediction = np.zeros((1,m))\n",
    "    w = w.reshape(X.shape[0], 1)\n",
    "    \n",
    "    # Compute vector \"A\" predicting the probabilities of a cat being present in the picture\n",
    "    ### START CODE HERE ### (≈ 1 line of code)\n",
    "    A = \n",
    "    ### END CODE HERE ###\n",
    "    \n",
    "    for i in range(A.shape[1]):\n",
    "        \n",
    "        # Convert probabilities A[0,i] to actual predictions p[0,i]\n",
    "        ### START CODE HERE ### (≈ 4 lines of code)\n",
    "        \n",
    "        \n",
    "        \n",
    "        \n",
    "        ### END CODE HERE ###\n",
    "    \n",
    "    assert(Y_prediction.shape == (1, m))\n",
    "    \n",
    "    return Y_prediction"
   ]
  },
  {
   "cell_type": "code",
   "execution_count": null,
   "metadata": {
    "colab": {},
    "colab_type": "code",
    "id": "AnN3JGErhUws"
   },
   "outputs": [],
   "source": [
    "w = np.array([[0.1124579],[0.23106775]])\n",
    "b = -0.3\n",
    "X = np.array([[1.,-1.1,-3.2],[1.2,2.,0.1]])\n",
    "print (\"predictions = \" + str(predict(w, b, X)))"
   ]
  },
  {
   "cell_type": "markdown",
   "metadata": {
    "colab_type": "text",
    "id": "RVHGpwDNhUwt"
   },
   "source": [
    "**값이 오른쪽 table과 같다면 정답입니다**: \n",
    "\n",
    "<table style=\"width:30%\">\n",
    "    <tr>\n",
    "         <td>\n",
    "             **predictions**\n",
    "         </td>\n",
    "          <td>\n",
    "            [[ 1.  1.  0.]]\n",
    "         </td>  \n",
    "   </tr>\n",
    "\n",
    "</table>\n"
   ]
  },
  {
   "cell_type": "markdown",
   "metadata": {
    "colab_type": "text",
    "id": "Iq6pHBnBhUwu"
   },
   "source": [
    "<font color='blue'>\n",
    "**기억하셔야 할 것:**  \n",
    "    \n",
    "지금까지 다음과 같은 함수들을 만드셨습니다:  \n",
    "- Initialize (w,b)  \n",
    "- Optimize the loss iteratively to learn parameters (w,b):  \n",
    "    - computing the cost and its gradient   \n",
    "    - updating the parameters using gradient descent  \n",
    "- Use the learned (w,b) to predict the labels for a given set of examples"
   ]
  },
  {
   "cell_type": "markdown",
   "metadata": {
    "colab_type": "text",
    "id": "yK06z1qzhUwu"
   },
   "source": [
    "---------"
   ]
  },
  {
   "cell_type": "markdown",
   "metadata": {
    "colab_type": "text",
    "id": "zv1jT_5ZhUwv"
   },
   "source": [
    "## 5. Merge all functions into a model ##\n",
    "\n",
    "### 5-1) training & test model\n",
    "\n",
    "You will now see how the overall model is structured by putting together all the building blocks (functions implemented in the previous parts) together, in the right order.\n",
    "\n",
    "## <font color=\"blue\"> Question 8\n",
    "\n",
    "**문제:** 아래 조건을 만족하는 `model()`함수를 완성하시오.\n",
    "- Y_prediction_test for your predictions on the test set\n",
    "- Y_prediction_train for your predictions on the train set\n",
    "- w, costs, grads for the outputs of optimize()\n",
    "    \n",
    "**hint:** 기존에 위에서 만든 함수들을 여기서 합쳐서 Neural Network(모델)를 만듭니다."
   ]
  },
  {
   "cell_type": "code",
   "execution_count": null,
   "metadata": {
    "colab": {},
    "colab_type": "code",
    "id": "n6TiBVE2hUwv"
   },
   "outputs": [],
   "source": [
    "# GRADED FUNCTION: model\n",
    "\n",
    "def model(X_train, Y_train, X_test, Y_test, num_iterations = 2000, learning_rate = 0.5, print_cost = False):\n",
    "    \"\"\"\n",
    "    Builds the logistic regression model by calling the function you've implemented previously\n",
    "    \n",
    "    Arguments:\n",
    "    X_train -- training set represented by a numpy array of shape (num_px * num_px * 3, m_train)\n",
    "    Y_train -- training labels represented by a numpy array (vector) of shape (1, m_train)\n",
    "    X_test -- test set represented by a numpy array of shape (num_px * num_px * 3, m_test)\n",
    "    Y_test -- test labels represented by a numpy array (vector) of shape (1, m_test)\n",
    "    num_iterations -- hyperparameter representing the number of iterations to optimize the parameters\n",
    "    learning_rate -- hyperparameter representing the learning rate used in the update rule of optimize()\n",
    "    print_cost -- Set to true to print the cost every 100 iterations\n",
    "    \n",
    "    Returns:\n",
    "    d -- dictionary containing information about the model.\n",
    "    \"\"\"\n",
    "    \n",
    "    ### START CODE HERE ###\n",
    "    \n",
    "    # initialize parameters with zeros (≈ 1 line of code)\n",
    "    w, b = \n",
    "\n",
    "    # Gradient descent (≈ 1 line of code)\n",
    "    parameters, grads, costs = \n",
    "    \n",
    "    # Retrieve parameters w and b from dictionary \"parameters\"\n",
    "    w = parameters[\"w\"]\n",
    "    b = parameters[\"b\"]\n",
    "    \n",
    "    # Predict test/train set examples (≈ 2 lines of code)\n",
    "    Y_prediction_test = \n",
    "    Y_prediction_train =\n",
    "\n",
    "    ### END CODE HERE ###\n",
    "\n",
    "    # Print train/test Errors\n",
    "    print(\"train accuracy: {} %\".format(100 - np.mean(np.abs(Y_prediction_train - Y_train)) * 100))\n",
    "    print(\"test accuracy: {} %\".format(100 - np.mean(np.abs(Y_prediction_test - Y_test)) * 100))\n",
    "\n",
    "    \n",
    "    d = {\"costs\": costs,\n",
    "         \"Y_prediction_test\": Y_prediction_test, \n",
    "         \"Y_prediction_train\" : Y_prediction_train, \n",
    "         \"w\" : w, \n",
    "         \"b\" : b,\n",
    "         \"learning_rate\" : learning_rate,\n",
    "         \"num_iterations\": num_iterations}\n",
    "    \n",
    "    return d"
   ]
  },
  {
   "cell_type": "markdown",
   "metadata": {
    "colab_type": "text",
    "id": "U1fFrTtUhUwx"
   },
   "source": [
    "Run the following cell to train your model."
   ]
  },
  {
   "cell_type": "code",
   "execution_count": null,
   "metadata": {
    "colab": {},
    "colab_type": "code",
    "id": "kBwE0bW6hUwx"
   },
   "outputs": [],
   "source": [
    "d = model(train_set_x, train_set_y, test_set_x, test_set_y, num_iterations = 2000, learning_rate = 0.0025, print_cost = True)"
   ]
  },
  {
   "cell_type": "markdown",
   "metadata": {
    "colab_type": "text",
    "id": "CfTS36XOhUwz"
   },
   "source": [
    "**값이 오른쪽 table과 같다면 정답입니다**: \n",
    "\n",
    "<table style=\"width:40%\"> \n",
    "    <tr>\n",
    "        <td> **Cost after iteration 0**  </td> \n",
    "        <td> 0.693147 </td>\n",
    "    </tr>\n",
    "      <tr>\n",
    "        <td> <center> $\\vdots$ </center> </td> \n",
    "        <td> <center> $\\vdots$ </center> </td> \n",
    "    </tr>  \n",
    "    <tr>\n",
    "        <td> **Train Accuracy**  </td> \n",
    "        <td> 99.0 % </td>\n",
    "    </tr>\n",
    "    <tr>\n",
    "        <td>**Test Accuracy** </td> \n",
    "        <td> 82.0 % </td>\n",
    "    </tr>\n",
    "</table> \n",
    "\n",
    "\n"
   ]
  },
  {
   "cell_type": "markdown",
   "metadata": {
    "colab_type": "text",
    "id": "8oFp1CvihUw0"
   },
   "source": [
    "Let's also plot the cost function and the gradients."
   ]
  },
  {
   "cell_type": "code",
   "execution_count": null,
   "metadata": {
    "colab": {},
    "colab_type": "code",
    "id": "6s016rbKhUw1"
   },
   "outputs": [],
   "source": [
    "# Plot learning curve (with costs)\n",
    "costs = np.squeeze(d['costs'])\n",
    "plt.plot(costs)\n",
    "plt.ylabel('cost')\n",
    "plt.xlabel('iterations (per hundreds)')\n",
    "plt.title(\"Learning rate =\" + str(d[\"learning_rate\"]))\n",
    "plt.show()"
   ]
  },
  {
   "cell_type": "markdown",
   "metadata": {
    "colab_type": "text",
    "id": "KjuctKojhUw2"
   },
   "source": [
    "**생각해보기:**\n",
    "- training accuracy는 100%에 가깝습니다.\n",
    "- test accuracy는 82%입니다.\n",
    "- 이 모델은 좋은 모델일까요? \n",
    "- 지금 현상을 뭐라고 할까요? 궁금하신 분은 'overfitting'을 검색해보셔도 좋습니다. 이는 5주차에 배웁니다.\n",
    "\n",
    "매주마다 점차 더 깊은 모델에 도전해봅니다."
   ]
  },
  {
   "cell_type": "markdown",
   "metadata": {
    "colab_type": "text",
    "id": "IJ-noCKQhUw3"
   },
   "source": [
    "**Interpretation**:\n",
    "You can see the cost decreasing. It shows that the parameters are being learned. However, you see that you could train the model even more on the training set. Try to increase the number of iterations(3000으로) in the cell above and rerun the cells. You might see that the training set accuracy goes up, but the test set accuracy goes down. This is called **overfitting.** "
   ]
  },
  {
   "cell_type": "markdown",
   "metadata": {
    "colab_type": "text",
    "id": "vjt7LOuhhUw3"
   },
   "source": [
    "### 5-2) test set 하나씩 test"
   ]
  },
  {
   "cell_type": "code",
   "execution_count": null,
   "metadata": {
    "colab": {},
    "colab_type": "code",
    "id": "dLA4bzp3hUw4"
   },
   "outputs": [],
   "source": [
    "# Example of a picture that was wrongly classified.\n",
    "index = 2\n",
    "plt.imshow(test_set_x[:,index].reshape((num_px, num_px, 3)))\n",
    "print (\"y = \" + str(test_set_y[:,index]) + \", you predicted that it is a \\\"\" + classes[int(d[\"Y_prediction_test\"][0,index])].decode(\"utf-8\") +  \"\\\" picture.\")"
   ]
  },
  {
   "cell_type": "markdown",
   "metadata": {
    "colab_type": "text",
    "id": "PxRGgLuRhUw5"
   },
   "source": [
    "-------"
   ]
  },
  {
   "cell_type": "markdown",
   "metadata": {
    "colab_type": "text",
    "id": "gH0r-z5RhUw5"
   },
   "source": [
    "## (Bonus) 6. Test with your own image (optional/ungraded exercise) ##\n",
    "\n",
    "여기까지 완수하신 걸 축하드립니다. 이제 자신만의 image를 가지고 지금까지 만든 모델이 어떻게 예측을 하는지 알아볼 수 있습니다:\n",
    "   1. 여러분의 이미지를 \"images\" 폴더 안에 넣습니다.\n",
    "   2. 그 이미지의 이름을 \"my_image.jpg\"로 설정합니다. (확장자가 png 등이면 실행 불가 / 반드시 jpg여야 합니다.)\n",
    "   3. 코드를 실행하면 여러분의 이미지가 고양이인지 판별합니다.(1 = cat, 0 = non-cat)!"
   ]
  },
  {
   "cell_type": "code",
   "execution_count": null,
   "metadata": {
    "colab": {},
    "colab_type": "code",
    "id": "_G44LbFohUw6"
   },
   "outputs": [],
   "source": [
    "## START CODE HERE ## (PUT YOUR IMAGE NAME) \n",
    "my_image = \"my_image.jpg\"   # change this to the name of your image file \n",
    "## END CODE HERE ##\n",
    "\n",
    "# We preprocess the image to fit your algorithm.\n",
    "fname = \"images/\" + my_image\n",
    "image = pilimg.open(fname)\n",
    "image = np.array(image)\n",
    "image = image/255.\n",
    "my_image = cv2.resize(image, dsize=(num_px,num_px)).reshape((1, num_px*num_px*3)).T\n",
    "my_predicted_image = predict(d[\"w\"], d[\"b\"], my_image)\n",
    "\n",
    "plt.imshow(image)\n",
    "print(\"y = \" + str(np.squeeze(my_predicted_image)) + \", your algorithm predicts a \\\"\" + classes[int(np.squeeze(my_predicted_image)),].decode(\"utf-8\") +  \"\\\" picture.\")"
   ]
  },
  {
   "cell_type": "markdown",
   "metadata": {
    "colab_type": "text",
    "id": "qnIycU7ehUw7"
   },
   "source": [
    "<font color='blue'>\n",
    "**What to remember from this assignment:**\n",
    "1. Preprocessing the dataset is important.\n",
    "2. You implemented each function separately: initialize(), propagate(), optimize(). Then you built a model().\n",
    "3. Tuning the learning rate (which is an example of a \"hyperparameter\") can make a big difference to the algorithm. You will see more examples of this later in this course!"
   ]
  },
  {
   "cell_type": "markdown",
   "metadata": {
    "colab_type": "text",
    "id": "jkxm7ynphUw8"
   },
   "source": [
    "마지막으로, 지금까지 구현한 모델을 통해 아래의 것들을 시도해보실 수도 있습니다.  \n",
    "- Play with the learning rate and the number of iterations\n",
    "- Try different initialization methods and compare the results\n",
    "- Test other preprocessings (center the data, or divide each row by its standard deviation)"
   ]
  },
  {
   "cell_type": "markdown",
   "metadata": {
    "colab_type": "text",
    "id": "hFdtRiaOhUw9"
   },
   "source": [
    "Bibliography:\n",
    "- http://www.wildml.com/2015/09/implementing-a-neural-network-from-scratch/\n",
    "- https://stats.stackexchange.com/questions/211436/why-do-we-normalize-images-by-subtracting-the-datasets-image-mean-and-not-the-c"
   ]
  }
 ],
 "metadata": {
  "colab": {
   "collapsed_sections": [
    "8dvIATuShUwM",
    "QG65cJdrhUwP",
    "DNHxlRr9hUwV",
    "sVLWIqw1hUwZ",
    "9fO-eS6ShUwe",
    "qjhIXFsnhUwm",
    "vjt7LOuhhUw3"
   ],
   "name": "Week 3 Assignment.ipynb",
   "provenance": []
  },
  "coursera": {
   "course_slug": "neural-networks-deep-learning",
   "graded_item_id": "XaIWT",
   "launcher_item_id": "zAgPl"
  },
  "kernelspec": {
   "display_name": "Python 3",
   "language": "python",
   "name": "python3"
  },
  "language_info": {
   "codemirror_mode": {
    "name": "ipython",
    "version": 3
   },
   "file_extension": ".py",
   "mimetype": "text/x-python",
   "name": "python",
   "nbconvert_exporter": "python",
   "pygments_lexer": "ipython3",
   "version": "3.7.3"
  }
 },
 "nbformat": 4,
 "nbformat_minor": 4
}
